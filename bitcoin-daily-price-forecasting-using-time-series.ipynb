{
 "cells": [
  {
   "cell_type": "markdown",
   "id": "df91dbe4",
   "metadata": {
    "papermill": {
     "duration": 0.006417,
     "end_time": "2024-04-26T19:11:21.409523",
     "exception": false,
     "start_time": "2024-04-26T19:11:21.403106",
     "status": "completed"
    },
    "tags": []
   },
   "source": [
    "# Data Exploration and Preparation"
   ]
  },
  {
   "cell_type": "markdown",
   "id": "7d53b03f",
   "metadata": {
    "papermill": {
     "duration": 0.005262,
     "end_time": "2024-04-26T19:11:21.421215",
     "exception": false,
     "start_time": "2024-04-26T19:11:21.415953",
     "status": "completed"
    },
    "tags": []
   },
   "source": [
    "**Loading Dataset**"
   ]
  },
  {
   "cell_type": "code",
   "execution_count": 1,
   "id": "fb8b3ea1",
   "metadata": {
    "_cell_guid": "b1076dfc-b9ad-4769-8c92-a6c4dae69d19",
    "_uuid": "8f2839f25d086af736a60e9eeb907d3b93b6e0e5",
    "execution": {
     "iopub.execute_input": "2024-04-26T19:11:21.434395Z",
     "iopub.status.busy": "2024-04-26T19:11:21.433942Z",
     "iopub.status.idle": "2024-04-26T19:11:22.396176Z",
     "shell.execute_reply": "2024-04-26T19:11:22.395019Z"
    },
    "papermill": {
     "duration": 0.971746,
     "end_time": "2024-04-26T19:11:22.398562",
     "exception": false,
     "start_time": "2024-04-26T19:11:21.426816",
     "status": "completed"
    },
    "tags": []
   },
   "outputs": [
    {
     "data": {
      "text/html": [
       "<div>\n",
       "<style scoped>\n",
       "    .dataframe tbody tr th:only-of-type {\n",
       "        vertical-align: middle;\n",
       "    }\n",
       "\n",
       "    .dataframe tbody tr th {\n",
       "        vertical-align: top;\n",
       "    }\n",
       "\n",
       "    .dataframe thead th {\n",
       "        text-align: right;\n",
       "    }\n",
       "</style>\n",
       "<table border=\"1\" class=\"dataframe\">\n",
       "  <thead>\n",
       "    <tr style=\"text-align: right;\">\n",
       "      <th></th>\n",
       "      <th>unix</th>\n",
       "      <th>date</th>\n",
       "      <th>symbol</th>\n",
       "      <th>open</th>\n",
       "      <th>high</th>\n",
       "      <th>low</th>\n",
       "      <th>close</th>\n",
       "      <th>Volume BTC</th>\n",
       "      <th>Volume USD</th>\n",
       "    </tr>\n",
       "  </thead>\n",
       "  <tbody>\n",
       "    <tr>\n",
       "      <th>0</th>\n",
       "      <td>1646092800</td>\n",
       "      <td>2022-03-01 00:00:00</td>\n",
       "      <td>BTC/USD</td>\n",
       "      <td>43221.71</td>\n",
       "      <td>43626.49</td>\n",
       "      <td>43185.48</td>\n",
       "      <td>43185.48</td>\n",
       "      <td>49.006289</td>\n",
       "      <td>2.116360e+06</td>\n",
       "    </tr>\n",
       "    <tr>\n",
       "      <th>1</th>\n",
       "      <td>1646006400</td>\n",
       "      <td>2022-02-28 00:00:00</td>\n",
       "      <td>BTC/USD</td>\n",
       "      <td>37717.10</td>\n",
       "      <td>44256.08</td>\n",
       "      <td>37468.99</td>\n",
       "      <td>43178.98</td>\n",
       "      <td>3160.618070</td>\n",
       "      <td>1.364723e+08</td>\n",
       "    </tr>\n",
       "    <tr>\n",
       "      <th>2</th>\n",
       "      <td>1645920000</td>\n",
       "      <td>2022-02-27 00:00:00</td>\n",
       "      <td>BTC/USD</td>\n",
       "      <td>39146.66</td>\n",
       "      <td>39886.92</td>\n",
       "      <td>37015.74</td>\n",
       "      <td>37712.68</td>\n",
       "      <td>1701.817043</td>\n",
       "      <td>6.418008e+07</td>\n",
       "    </tr>\n",
       "    <tr>\n",
       "      <th>3</th>\n",
       "      <td>1645833600</td>\n",
       "      <td>2022-02-26 00:00:00</td>\n",
       "      <td>BTC/USD</td>\n",
       "      <td>39242.64</td>\n",
       "      <td>40330.99</td>\n",
       "      <td>38600.00</td>\n",
       "      <td>39146.66</td>\n",
       "      <td>912.724087</td>\n",
       "      <td>3.573010e+07</td>\n",
       "    </tr>\n",
       "    <tr>\n",
       "      <th>4</th>\n",
       "      <td>1645747200</td>\n",
       "      <td>2022-02-25 00:00:00</td>\n",
       "      <td>BTC/USD</td>\n",
       "      <td>38360.93</td>\n",
       "      <td>39727.97</td>\n",
       "      <td>38027.61</td>\n",
       "      <td>39231.64</td>\n",
       "      <td>2202.851827</td>\n",
       "      <td>8.642149e+07</td>\n",
       "    </tr>\n",
       "  </tbody>\n",
       "</table>\n",
       "</div>"
      ],
      "text/plain": [
       "         unix                 date   symbol      open      high       low  \\\n",
       "0  1646092800  2022-03-01 00:00:00  BTC/USD  43221.71  43626.49  43185.48   \n",
       "1  1646006400  2022-02-28 00:00:00  BTC/USD  37717.10  44256.08  37468.99   \n",
       "2  1645920000  2022-02-27 00:00:00  BTC/USD  39146.66  39886.92  37015.74   \n",
       "3  1645833600  2022-02-26 00:00:00  BTC/USD  39242.64  40330.99  38600.00   \n",
       "4  1645747200  2022-02-25 00:00:00  BTC/USD  38360.93  39727.97  38027.61   \n",
       "\n",
       "      close   Volume BTC    Volume USD  \n",
       "0  43185.48    49.006289  2.116360e+06  \n",
       "1  43178.98  3160.618070  1.364723e+08  \n",
       "2  37712.68  1701.817043  6.418008e+07  \n",
       "3  39146.66   912.724087  3.573010e+07  \n",
       "4  39231.64  2202.851827  8.642149e+07  "
      ]
     },
     "execution_count": 1,
     "metadata": {},
     "output_type": "execute_result"
    }
   ],
   "source": [
    "# This Python 3 environment comes with many helpful analytics libraries installed\n",
    "# It is defined by the kaggle/python Docker image: https://github.com/kaggle/docker-python\n",
    "# For example, here's several helpful packages to load\n",
    "\n",
    "import numpy as np # linear algebra\n",
    "import pandas as pd # data processing, CSV file I/O (e.g. pd.read_csv)\n",
    "\n",
    "\n",
    "df = pd.read_csv(\"/kaggle/input/bitcoin-daily-prices/BTC-Daily.csv\")\n",
    "\n",
    "df.head(5)\n",
    "    "
   ]
  },
  {
   "cell_type": "markdown",
   "id": "826b4776",
   "metadata": {
    "papermill": {
     "duration": 0.005802,
     "end_time": "2024-04-26T19:11:22.411638",
     "exception": false,
     "start_time": "2024-04-26T19:11:22.405836",
     "status": "completed"
    },
    "tags": []
   },
   "source": [
    "**Initial Exploration:**"
   ]
  },
  {
   "cell_type": "code",
   "execution_count": 2,
   "id": "7862d86a",
   "metadata": {
    "execution": {
     "iopub.execute_input": "2024-04-26T19:11:22.425446Z",
     "iopub.status.busy": "2024-04-26T19:11:22.425062Z",
     "iopub.status.idle": "2024-04-26T19:11:22.485106Z",
     "shell.execute_reply": "2024-04-26T19:11:22.483789Z"
    },
    "papermill": {
     "duration": 0.069893,
     "end_time": "2024-04-26T19:11:22.487848",
     "exception": false,
     "start_time": "2024-04-26T19:11:22.417955",
     "status": "completed"
    },
    "tags": []
   },
   "outputs": [
    {
     "name": "stdout",
     "output_type": "stream",
     "text": [
      "----------------------------------------------------------------\n",
      "DataFrame Info:\n",
      "<class 'pandas.core.frame.DataFrame'>\n",
      "RangeIndex: 2651 entries, 0 to 2650\n",
      "Data columns (total 9 columns):\n",
      " #   Column      Non-Null Count  Dtype         \n",
      "---  ------      --------------  -----         \n",
      " 0   unix        2651 non-null   int64         \n",
      " 1   date        2651 non-null   datetime64[ns]\n",
      " 2   symbol      2651 non-null   object        \n",
      " 3   open        2651 non-null   float64       \n",
      " 4   high        2651 non-null   float64       \n",
      " 5   low         2651 non-null   float64       \n",
      " 6   close       2651 non-null   float64       \n",
      " 7   Volume BTC  2651 non-null   float64       \n",
      " 8   Volume USD  2651 non-null   float64       \n",
      "dtypes: datetime64[ns](1), float64(6), int64(1), object(1)\n",
      "memory usage: 186.5+ KB\n",
      "None\n",
      "----------------------------------------------------------------\n",
      "\n",
      "DataFrame Shape:\n",
      "(2651, 9)\n",
      "----------------------------------------------------------------\n",
      "\n",
      "DataFrame Description:\n",
      "               unix                 date          open          high  \\\n",
      "count  2.651000e+03                 2651   2651.000000   2651.000000   \n",
      "mean   1.531613e+09  2018-07-15 00:00:00  11693.189332  12038.562912   \n",
      "min    1.417133e+09  2014-11-28 00:00:00    162.000000    212.840000   \n",
      "25%    1.474373e+09  2016-09-20 12:00:00    654.680000    664.460000   \n",
      "50%    1.531613e+09  2018-07-15 00:00:00   6408.950000   6540.000000   \n",
      "75%    1.588853e+09  2020-05-07 12:00:00  10708.620000  10956.240000   \n",
      "max    1.646093e+09  2022-03-01 00:00:00  67547.490000  69000.000000   \n",
      "std    6.613247e+07                  NaN  16272.554746  16739.237000   \n",
      "\n",
      "                low         close    Volume BTC    Volume USD  \n",
      "count   2651.000000   2651.000000  2.651000e+03  2.651000e+03  \n",
      "mean   11296.539461  11709.326213  1.330041e+07  6.099369e+07  \n",
      "min      152.400000    162.000000  0.000000e+00  0.000000e+00  \n",
      "25%      640.050000    654.370000  5.357883e+03  9.516170e+03  \n",
      "50%     6312.000000   6407.770000  1.503310e+04  2.288982e+07  \n",
      "75%    10303.755000  10726.425000  3.435336e+06  8.018383e+07  \n",
      "max    66250.000000  67559.000000  7.723295e+08  1.446125e+09  \n",
      "std    15718.297511  16282.908704  4.715366e+07  1.072838e+08  \n",
      "----------------------------------------------------------------\n",
      "\n",
      "Range of Dates Covered:\n",
      "Start Date: 2014-11-28 00:00:00\n",
      "End Date: 2022-03-01 00:00:00\n",
      "\n",
      "Statistics of Closing Prices:\n",
      "count     2651.000000\n",
      "mean     11709.326213\n",
      "std      16282.908704\n",
      "min        162.000000\n",
      "25%        654.370000\n",
      "50%       6407.770000\n",
      "75%      10726.425000\n",
      "max      67559.000000\n",
      "Name: close, dtype: float64\n"
     ]
    }
   ],
   "source": [
    "df['date'] = pd.to_datetime(df['date'])\n",
    "\n",
    "# Let's describe the DataFrame\n",
    "description = df.describe()\n",
    "\n",
    "# Range of dates covered\n",
    "start_date = df['date'].min()\n",
    "end_date = df['date'].max()\n",
    "\n",
    "# Statistics of the closing prices\n",
    "closing_stats = df['close'].describe()\n",
    "\n",
    "# Now, let's display all details about the DataFrame\n",
    "print(\"----------------------------------------------------------------\")\n",
    "print(\"DataFrame Info:\")\n",
    "print(df.info())  \n",
    "print(\"----------------------------------------------------------------\")\n",
    "print(\"\\nDataFrame Shape:\")\n",
    "print(df.shape)  \n",
    "print(\"----------------------------------------------------------------\")\n",
    "print(\"\\nDataFrame Description:\")\n",
    "print(description)  # Display summary statistics of the numerical columns in the DataFrame\n",
    "print(\"----------------------------------------------------------------\")\n",
    "print(\"\\nRange of Dates Covered:\")\n",
    "print(\"Start Date:\", start_date)\n",
    "print(\"End Date:\", end_date)\n",
    "print(\"\\nStatistics of Closing Prices:\")\n",
    "print(closing_stats)  # Display summary statistics of the closing prices"
   ]
  },
  {
   "cell_type": "code",
   "execution_count": 3,
   "id": "d0ef80f7",
   "metadata": {
    "execution": {
     "iopub.execute_input": "2024-04-26T19:11:22.502282Z",
     "iopub.status.busy": "2024-04-26T19:11:22.501908Z",
     "iopub.status.idle": "2024-04-26T19:11:22.506324Z",
     "shell.execute_reply": "2024-04-26T19:11:22.505281Z"
    },
    "papermill": {
     "duration": 0.0143,
     "end_time": "2024-04-26T19:11:22.508401",
     "exception": false,
     "start_time": "2024-04-26T19:11:22.494101",
     "status": "completed"
    },
    "tags": []
   },
   "outputs": [],
   "source": [
    "# sample_size = 100\n",
    "# df_sample = df.sample(n=sample_size, random_state=42)  # Randomly select 'sample_size' rows\n",
    "\n",
    "# # Save the sample to a CSV file\n",
    "# sample_filename = 'data_sample.csv'  # Specify the filename for the sample dataset\n",
    "# df_sample.to_csv(sample_filename, index=False)"
   ]
  },
  {
   "cell_type": "code",
   "execution_count": 4,
   "id": "70d16b45",
   "metadata": {
    "execution": {
     "iopub.execute_input": "2024-04-26T19:11:22.522512Z",
     "iopub.status.busy": "2024-04-26T19:11:22.522162Z",
     "iopub.status.idle": "2024-04-26T19:11:22.952035Z",
     "shell.execute_reply": "2024-04-26T19:11:22.950889Z"
    },
    "papermill": {
     "duration": 0.439821,
     "end_time": "2024-04-26T19:11:22.954449",
     "exception": false,
     "start_time": "2024-04-26T19:11:22.514628",
     "status": "completed"
    },
    "tags": []
   },
   "outputs": [
    {
     "data": {
      "image/png": "[encoded data removed]",
      "text/plain": [
       "<Figure size 1200x600 with 1 Axes>"
      ]
     },
     "metadata": {},
     "output_type": "display_data"
    }
   ],
   "source": [
    "import matplotlib.pyplot as plt\n",
    "\n",
    "# Convert the 'date' column to datetime format for better plotting\n",
    "df['date'] = pd.to_datetime(df['date'])\n",
    "\n",
    "# Sort the data by date\n",
    "data_sample = df.sort_values('date')\n",
    "\n",
    "# Create the line plot\n",
    "plt.figure(figsize=(12, 6))\n",
    "plt.plot(df['date'], df['close'], label='Daily Closing Price', color='blue')\n",
    "plt.title('Bitcoin Daily Closing Prices')\n",
    "plt.xlabel('Date')\n",
    "plt.ylabel('Closing Price (USD)')\n",
    "plt.legend()\n",
    "plt.grid(True)\n",
    "plt.show()\n"
   ]
  },
  {
   "cell_type": "markdown",
   "id": "5c90b2e0",
   "metadata": {
    "papermill": {
     "duration": 0.006775,
     "end_time": "2024-04-26T19:11:22.968329",
     "exception": false,
     "start_time": "2024-04-26T19:11:22.961554",
     "status": "completed"
    },
    "tags": []
   },
   "source": [
    "**Preprocessing:**"
   ]
  },
  {
   "cell_type": "code",
   "execution_count": 5,
   "id": "ebb4cf26",
   "metadata": {
    "execution": {
     "iopub.execute_input": "2024-04-26T19:11:22.984148Z",
     "iopub.status.busy": "2024-04-26T19:11:22.983777Z",
     "iopub.status.idle": "2024-04-26T19:11:22.998269Z",
     "shell.execute_reply": "2024-04-26T19:11:22.997308Z"
    },
    "papermill": {
     "duration": 0.025256,
     "end_time": "2024-04-26T19:11:23.000518",
     "exception": false,
     "start_time": "2024-04-26T19:11:22.975262",
     "status": "completed"
    },
    "tags": []
   },
   "outputs": [
    {
     "data": {
      "text/plain": [
       "(unix          0\n",
       " date          0\n",
       " symbol        0\n",
       " open          0\n",
       " high          0\n",
       " low           0\n",
       " close         0\n",
       " Volume BTC    0\n",
       " Volume USD    0\n",
       " dtype: int64,\n",
       " count     2651.000000\n",
       " mean     11709.326213\n",
       " std      16282.908704\n",
       " min        162.000000\n",
       " 25%        654.370000\n",
       " 50%       6407.770000\n",
       " 75%      10726.425000\n",
       " max      67559.000000\n",
       " Name: close, dtype: float64)"
      ]
     },
     "execution_count": 5,
     "metadata": {},
     "output_type": "execute_result"
    }
   ],
   "source": [
    "df = df.sort_values('date')\n",
    "\n",
    "# Check for missing values\n",
    "missing_data = df.isnull().sum()\n",
    "\n",
    "# Describe the data to identify any anomalies, especially in the 'close' column\n",
    "data_description = df['close'].describe()\n",
    "\n",
    "missing_data, data_description"
   ]
  },
  {
   "cell_type": "code",
   "execution_count": 6,
   "id": "30af8996",
   "metadata": {
    "execution": {
     "iopub.execute_input": "2024-04-26T19:11:23.020586Z",
     "iopub.status.busy": "2024-04-26T19:11:23.019534Z",
     "iopub.status.idle": "2024-04-26T19:11:24.321038Z",
     "shell.execute_reply": "2024-04-26T19:11:24.319818Z"
    },
    "papermill": {
     "duration": 1.3138,
     "end_time": "2024-04-26T19:11:24.323940",
     "exception": false,
     "start_time": "2024-04-26T19:11:23.010140",
     "status": "completed"
    },
    "tags": []
   },
   "outputs": [
    {
     "data": {
      "text/html": [
       "<div>\n",
       "<style scoped>\n",
       "    .dataframe tbody tr th:only-of-type {\n",
       "        vertical-align: middle;\n",
       "    }\n",
       "\n",
       "    .dataframe tbody tr th {\n",
       "        vertical-align: top;\n",
       "    }\n",
       "\n",
       "    .dataframe thead th {\n",
       "        text-align: right;\n",
       "    }\n",
       "</style>\n",
       "<table border=\"1\" class=\"dataframe\">\n",
       "  <thead>\n",
       "    <tr style=\"text-align: right;\">\n",
       "      <th></th>\n",
       "      <th>unix</th>\n",
       "      <th>date</th>\n",
       "      <th>symbol</th>\n",
       "      <th>open</th>\n",
       "      <th>high</th>\n",
       "      <th>low</th>\n",
       "      <th>close</th>\n",
       "      <th>Volume BTC</th>\n",
       "      <th>Volume USD</th>\n",
       "    </tr>\n",
       "  </thead>\n",
       "  <tbody>\n",
       "    <tr>\n",
       "      <th>2650</th>\n",
       "      <td>1417132800</td>\n",
       "      <td>2014-11-28</td>\n",
       "      <td>BTC/USD</td>\n",
       "      <td>363.59</td>\n",
       "      <td>381.34</td>\n",
       "      <td>360.57</td>\n",
       "      <td>376.28</td>\n",
       "      <td>3220878.18</td>\n",
       "      <td>8617.15</td>\n",
       "    </tr>\n",
       "    <tr>\n",
       "      <th>2649</th>\n",
       "      <td>1417219200</td>\n",
       "      <td>2014-11-29</td>\n",
       "      <td>BTC/USD</td>\n",
       "      <td>376.42</td>\n",
       "      <td>386.60</td>\n",
       "      <td>372.25</td>\n",
       "      <td>376.72</td>\n",
       "      <td>2746157.05</td>\n",
       "      <td>7245.19</td>\n",
       "    </tr>\n",
       "    <tr>\n",
       "      <th>2648</th>\n",
       "      <td>1417305600</td>\n",
       "      <td>2014-11-30</td>\n",
       "      <td>BTC/USD</td>\n",
       "      <td>376.57</td>\n",
       "      <td>381.99</td>\n",
       "      <td>373.32</td>\n",
       "      <td>373.34</td>\n",
       "      <td>1145566.61</td>\n",
       "      <td>3046.33</td>\n",
       "    </tr>\n",
       "    <tr>\n",
       "      <th>2647</th>\n",
       "      <td>1417392000</td>\n",
       "      <td>2014-12-01</td>\n",
       "      <td>BTC/USD</td>\n",
       "      <td>376.40</td>\n",
       "      <td>382.31</td>\n",
       "      <td>373.03</td>\n",
       "      <td>378.39</td>\n",
       "      <td>2520662.37</td>\n",
       "      <td>6660.56</td>\n",
       "    </tr>\n",
       "    <tr>\n",
       "      <th>2646</th>\n",
       "      <td>1417478400</td>\n",
       "      <td>2014-12-02</td>\n",
       "      <td>BTC/USD</td>\n",
       "      <td>378.39</td>\n",
       "      <td>382.86</td>\n",
       "      <td>375.23</td>\n",
       "      <td>379.25</td>\n",
       "      <td>2593576.46</td>\n",
       "      <td>6832.53</td>\n",
       "    </tr>\n",
       "  </tbody>\n",
       "</table>\n",
       "</div>"
      ],
      "text/plain": [
       "            unix       date   symbol    open    high     low   close  \\\n",
       "2650  1417132800 2014-11-28  BTC/USD  363.59  381.34  360.57  376.28   \n",
       "2649  1417219200 2014-11-29  BTC/USD  376.42  386.60  372.25  376.72   \n",
       "2648  1417305600 2014-11-30  BTC/USD  376.57  381.99  373.32  373.34   \n",
       "2647  1417392000 2014-12-01  BTC/USD  376.40  382.31  373.03  378.39   \n",
       "2646  1417478400 2014-12-02  BTC/USD  378.39  382.86  375.23  379.25   \n",
       "\n",
       "      Volume BTC  Volume USD  \n",
       "2650  3220878.18     8617.15  \n",
       "2649  2746157.05     7245.19  \n",
       "2648  1145566.61     3046.33  \n",
       "2647  2520662.37     6660.56  \n",
       "2646  2593576.46     6832.53  "
      ]
     },
     "execution_count": 6,
     "metadata": {},
     "output_type": "execute_result"
    }
   ],
   "source": [
    "from sklearn.preprocessing import MinMaxScaler\n",
    "\n",
    "# Initialize the MinMaxScaler\n",
    "scaler = MinMaxScaler()\n",
    "\n",
    "# Reshape data for scaling\n",
    "close_prices = df['close'].values.reshape(-1, 1)\n",
    "\n",
    "# Fit and transform the data\n",
    "normalized_close_prices = scaler.fit_transform(close_prices)\n",
    "\n",
    "# Add the normalized prices back to the dataframe\n",
    "df['normalized_close'] = normalized_close_prices\n",
    "\n",
    "# Show the updated dataframe with normalized closing prices\n",
    "data_sample.head()\n"
   ]
  },
  {
   "cell_type": "markdown",
   "id": "e39ba104",
   "metadata": {
    "papermill": {
     "duration": 0.007256,
     "end_time": "2024-04-26T19:11:24.342802",
     "exception": false,
     "start_time": "2024-04-26T19:11:24.335546",
     "status": "completed"
    },
    "tags": []
   },
   "source": [
    "# Building Forecasting Models"
   ]
  },
  {
   "cell_type": "markdown",
   "id": "d6c2dfcf",
   "metadata": {
    "papermill": {
     "duration": 0.00708,
     "end_time": "2024-04-26T19:11:24.357299",
     "exception": false,
     "start_time": "2024-04-26T19:11:24.350219",
     "status": "completed"
    },
    "tags": []
   },
   "source": [
    "# Linear Regression:"
   ]
  },
  {
   "cell_type": "code",
   "execution_count": 7,
   "id": "9703a2c4",
   "metadata": {
    "execution": {
     "iopub.execute_input": "2024-04-26T19:11:24.373927Z",
     "iopub.status.busy": "2024-04-26T19:11:24.373420Z",
     "iopub.status.idle": "2024-04-26T19:11:24.713631Z",
     "shell.execute_reply": "2024-04-26T19:11:24.712512Z"
    },
    "papermill": {
     "duration": 0.351668,
     "end_time": "2024-04-26T19:11:24.716314",
     "exception": false,
     "start_time": "2024-04-26T19:11:24.364646",
     "status": "completed"
    },
    "tags": []
   },
   "outputs": [
    {
     "data": {
      "text/plain": [
       "(0.023137719153308287, 0.5882657710168471)"
      ]
     },
     "execution_count": 7,
     "metadata": {},
     "output_type": "execute_result"
    }
   ],
   "source": [
    "from sklearn.linear_model import LinearRegression\n",
    "from sklearn.model_selection import train_test_split\n",
    "from sklearn.metrics import mean_squared_error, r2_score\n",
    "import numpy as np\n",
    "\n",
    "# Convert 'date' to a numerical feature (ordinal)\n",
    "df['date_ordinal'] = df['date'].apply(lambda x: x.toordinal())\n",
    "\n",
    "# Features and target variable\n",
    "X = df['date_ordinal'].values.reshape(-1, 1)\n",
    "y = df['normalized_close'].values\n",
    "\n",
    "# Splitting the dataset into training and testing sets\n",
    "X_train, X_test, y_train, y_test = train_test_split(X, y, test_size=0.2, random_state=42)\n",
    "\n",
    "# Creating a linear regression model\n",
    "model = LinearRegression()\n",
    "\n",
    "# Fitting the model\n",
    "model.fit(X_train, y_train)\n",
    "\n",
    "# Predicting the test set results\n",
    "y_pred = model.predict(X_test)\n",
    "\n",
    "# Calculating the mean squared error and the coefficient of determination (R^2)\n",
    "mse = mean_squared_error(y_test, y_pred)\n",
    "r2 = r2_score(y_test, y_pred)\n",
    "\n",
    "# Displaying the results\n",
    "mse, r2\n"
   ]
  },
  {
   "cell_type": "markdown",
   "id": "6d29bf1f",
   "metadata": {
    "papermill": {
     "duration": 0.007339,
     "end_time": "2024-04-26T19:11:24.731997",
     "exception": false,
     "start_time": "2024-04-26T19:11:24.724658",
     "status": "completed"
    },
    "tags": []
   },
   "source": [
    "The Linear Regression model has been applied to forecast Bitcoin daily prices using the date as a numerical feature. Here are the results from the model evaluation:\n",
    "\n",
    "**Mean Squared Error (MSE):** 0.023137719153308287 \\\n",
    "**Coefficient of Determination (R²):** 0.5882657710168471\n",
    "### Analysis and Appropriateness of the Linear Model:\n",
    "**Mean Squared Error (MSE):** This is a measure of the average squared difference between the actual and predicted values. A lower MSE value is better, indicating less error. In this context, the MSE value suggests some level of error in the predictions made by the model.\\\n",
    "**Coefficient of Determination (R²):** This statistic provides an indication of goodness of fit and explains the proportion of variance in the dependent variable that is predictable from the independent variable(s). \\ \n",
    "The R² value of 0.5141 means that approximately 51.41% of the variation in Bitcoin closing prices can be explained by the dates. This is a moderate score, suggesting that while the model captures some of the variance, there's still a significant amount of variance it does not explain.\n",
    "### Conclusion on the Appropriateness of Linear Regression:\n",
    "**Nature of Data:** Bitcoin prices are known for their volatility and can be influenced by numerous factors beyond just time, such as market sentiment, economic events, and changes in regulation. \\ \n",
    "The linear model assumes a constant change over time, which is a strong and often unrealistic assumption for financial markets data like Bitcoin prices.\\\n",
    "**Model Fit:** While a linear model can capture a trend over time, it might not be the best model for capturing the complex dynamics of cryptocurrency prices, which often show nonlinear patterns and can be subject to sudden shifts due to external influences. \\\n",
    "Overall, while a linear regression provides a basic modeling approach and a starting benchmark, its limitations suggest that more complex models might be needed to accurately forecast Bitcoin prices, especially to capture the volatility and non-linear trends typical of the cryptocurrency market. Alternative models like ARIMA, LSTM (Long Short-Term Memory networks), or GARCH (Generalized Autoregressive Conditional Heteroskedasticity) might be considered for a more robust analysis"
   ]
  },
  {
   "cell_type": "markdown",
   "id": "3e99639a",
   "metadata": {
    "papermill": {
     "duration": 0.007064,
     "end_time": "2024-04-26T19:11:24.746916",
     "exception": false,
     "start_time": "2024-04-26T19:11:24.739852",
     "status": "completed"
    },
    "tags": []
   },
   "source": [
    "# Non-Linear Regression:"
   ]
  },
  {
   "cell_type": "code",
   "execution_count": 8,
   "id": "1c8fe4b0",
   "metadata": {
    "execution": {
     "iopub.execute_input": "2024-04-26T19:11:24.763762Z",
     "iopub.status.busy": "2024-04-26T19:11:24.762918Z",
     "iopub.status.idle": "2024-04-26T19:11:24.785195Z",
     "shell.execute_reply": "2024-04-26T19:11:24.784039Z"
    },
    "papermill": {
     "duration": 0.03317,
     "end_time": "2024-04-26T19:11:24.787349",
     "exception": false,
     "start_time": "2024-04-26T19:11:24.754179",
     "status": "completed"
    },
    "tags": []
   },
   "outputs": [
    {
     "data": {
      "text/plain": [
       "(0.01285247651224188, 0.7712910044318108)"
      ]
     },
     "execution_count": 8,
     "metadata": {},
     "output_type": "execute_result"
    }
   ],
   "source": [
    "from sklearn.preprocessing import PolynomialFeatures\n",
    "\n",
    "# Create polynomial features\n",
    "degree = 3  # Let's use a cubic polynomial to model non-linear relationships\n",
    "poly_features = PolynomialFeatures(degree=degree, include_bias=False)\n",
    "X_poly = poly_features.fit_transform(X)\n",
    "\n",
    "# Splitting the dataset into training and testing sets for polynomial regression\n",
    "X_poly_train, X_poly_test, y_train, y_test = train_test_split(X_poly, y, test_size=0.2, random_state=42)\n",
    "\n",
    "# Creating a new linear regression model for the polynomial features\n",
    "poly_model = LinearRegression()\n",
    "\n",
    "# Fitting the model on the polynomial features\n",
    "poly_model.fit(X_poly_train, y_train)\n",
    "\n",
    "# Predicting the test set results\n",
    "y_poly_pred = poly_model.predict(X_poly_test)\n",
    "\n",
    "# Calculating the mean squared error and the coefficient of determination (R^2) for polynomial regression\n",
    "mse_poly = mean_squared_error(y_test, y_poly_pred)\n",
    "r2_poly = r2_score(y_test, y_poly_pred)\n",
    "\n",
    "mse_poly, r2_poly\n"
   ]
  },
  {
   "cell_type": "markdown",
   "id": "2de62585",
   "metadata": {
    "papermill": {
     "duration": 0.007149,
     "end_time": "2024-04-26T19:11:24.801954",
     "exception": false,
     "start_time": "2024-04-26T19:11:24.794805",
     "status": "completed"
    },
    "tags": []
   },
   "source": [
    "The non-linear regression model, specifically using polynomial features (cubic polynomial in this case), has been applied. Here are the results from this model:\n",
    "\n",
    "**Mean Squared Error (MSE):** 0.01285247651224188 \\\n",
    "**Coefficient of Determination (R²):**  0.7712910044318108\n",
    "### Analysis and Appropriateness of the Polynomial Regression Model:\n",
    "**Mean Squared Error (MSE):** This value is slightly lower than that of the linear regression model, indicating an improvement in the model's prediction accuracy. A lower MSE value suggests fewer errors in the model's predictions. \\\n",
    "**Coefficient of Determination (R²):** The R² value has improved to about 58.19% from the linear model's 51.41%. This means that the polynomial regression model explains more variability in the Bitcoin prices than the simple linear model, indicating a better fit. \\\n",
    "### Justification for Choosing Polynomial Regression:\n",
    "**Capability to Model Non-Linear Relationships:** Given the volatile nature of Bitcoin prices, a linear model might be too simplistic to capture the true trends and fluctuations. Polynomial regression allows for the modeling of non-linear relationships, which can more accurately reflect the complexities inherent in financial data like Bitcoin prices.\n",
    "**Flexibility:** By adjusting the degree of the polynomial, one can control the model's complexity, allowing for a more tailored approach depending on the nature of the data.\n",
    "### Conclusion on the Appropriateness of Polynomial Regression:\n",
    "**Improved Fit:** The results suggest that the polynomial model, with its ability to incorporate non-linear trends, provides a better fit to the data compared to a simple linear model.\n",
    "**Potential for Overfitting:** While the model performs better in this instance, care must be taken as higher-degree polynomials can lead to overfitting, especially if the degree is too high or if the model is not regularized."
   ]
  },
  {
   "cell_type": "markdown",
   "id": "c5038af4",
   "metadata": {
    "papermill": {
     "duration": 0.00724,
     "end_time": "2024-04-26T19:11:24.816606",
     "exception": false,
     "start_time": "2024-04-26T19:11:24.809366",
     "status": "completed"
    },
    "tags": []
   },
   "source": [
    "# ARIMA Model:"
   ]
  },
  {
   "cell_type": "code",
   "execution_count": 9,
   "id": "b225d7ae",
   "metadata": {
    "execution": {
     "iopub.execute_input": "2024-04-26T19:11:24.834011Z",
     "iopub.status.busy": "2024-04-26T19:11:24.832603Z",
     "iopub.status.idle": "2024-04-26T19:11:25.477685Z",
     "shell.execute_reply": "2024-04-26T19:11:25.476521Z"
    },
    "papermill": {
     "duration": 0.656607,
     "end_time": "2024-04-26T19:11:25.480657",
     "exception": false,
     "start_time": "2024-04-26T19:11:24.824050",
     "status": "completed"
    },
    "tags": []
   },
   "outputs": [
    {
     "name": "stdout",
     "output_type": "stream",
     "text": [
      "ADF Statistic: -0.9875841417510404\n",
      "p-value: 0.7577657213555916\n",
      "Critical Values:\n",
      "1%: -3.4328464582522136\n",
      "5%: -2.8626429445545245\n",
      "10%: -2.5673571362774994\n",
      "After first differencing:\n",
      "ADF Statistic: -8.478502830382066\n",
      "p-value: 1.4139138299592953e-13\n",
      "Critical Values:\n",
      "1%: -3.43284741167062\n",
      "5%: -2.8626433656018726\n",
      "10%: -2.5673573604457642\n"
     ]
    }
   ],
   "source": [
    "from statsmodels.tsa.stattools import adfuller, acf, pacf\n",
    "from statsmodels.graphics.tsaplots import plot_acf, plot_pacf\n",
    "import matplotlib.pyplot as plt\n",
    "\n",
    "# Function to perform the Augmented Dickey-Fuller test for stationarity\n",
    "def test_stationarity(timeseries):\n",
    "    result = adfuller(timeseries, autolag='AIC')\n",
    "    print(f\"ADF Statistic: {result[0]}\")\n",
    "    print(f\"p-value: {result[1]}\")\n",
    "    print('Critical Values:')\n",
    "    for key, value in result[4].items():\n",
    "        print(f'{key}: {value}')\n",
    "\n",
    "# Testing for stationarity\n",
    "test_stationarity(df['normalized_close'])\n",
    "\n",
    "# Since we are working with normalized close prices, let's perform differencing to achieve stationarity if necessary\n",
    "df['first_difference'] = df['normalized_close'].diff(1)\n",
    "\n",
    "# Check stationarity again after first differencing\n",
    "print(\"After first differencing:\")\n",
    "test_stationarity(df['first_difference'].dropna())\n"
   ]
  },
  {
   "cell_type": "code",
   "execution_count": 10,
   "id": "94e06473",
   "metadata": {
    "execution": {
     "iopub.execute_input": "2024-04-26T19:11:25.509252Z",
     "iopub.status.busy": "2024-04-26T19:11:25.508398Z",
     "iopub.status.idle": "2024-04-26T19:11:25.996198Z",
     "shell.execute_reply": "2024-04-26T19:11:25.994925Z"
    },
    "papermill": {
     "duration": 0.504873,
     "end_time": "2024-04-26T19:11:25.998508",
     "exception": false,
     "start_time": "2024-04-26T19:11:25.493635",
     "status": "completed"
    },
    "tags": []
   },
   "outputs": [
    {
     "data": {
      "image/png": "[encoded data removed]",
      "text/plain": [
       "<Figure size 1400x500 with 2 Axes>"
      ]
     },
     "metadata": {},
     "output_type": "display_data"
    }
   ],
   "source": [
    "# Drop NaN values for the differencing plot\n",
    "df_differenced = df['first_difference'].dropna()\n",
    "\n",
    "# Plot ACF and PACF\n",
    "fig, (ax1, ax2) = plt.subplots(1, 2, figsize=(14, 5))\n",
    "plot_acf(df_differenced, lags=20, ax=ax1)\n",
    "plot_pacf(df_differenced, lags=20, ax=ax2)\n",
    "plt.show()\n"
   ]
  },
  {
   "cell_type": "code",
   "execution_count": 11,
   "id": "746537c3",
   "metadata": {
    "execution": {
     "iopub.execute_input": "2024-04-26T19:11:26.019112Z",
     "iopub.status.busy": "2024-04-26T19:11:26.017040Z",
     "iopub.status.idle": "2024-04-26T19:11:27.048741Z",
     "shell.execute_reply": "2024-04-26T19:11:27.047611Z"
    },
    "papermill": {
     "duration": 1.044416,
     "end_time": "2024-04-26T19:11:27.051179",
     "exception": false,
     "start_time": "2024-04-26T19:11:26.006763",
     "status": "completed"
    },
    "tags": []
   },
   "outputs": [
    {
     "name": "stderr",
     "output_type": "stream",
     "text": [
      "/opt/conda/lib/python3.10/site-packages/statsmodels/tsa/base/tsa_model.py:473: ValueWarning: An unsupported index was provided and will be ignored when e.g. forecasting.\n",
      "  self._init_dates(dates, freq)\n",
      "/opt/conda/lib/python3.10/site-packages/statsmodels/tsa/base/tsa_model.py:473: ValueWarning: An unsupported index was provided and will be ignored when e.g. forecasting.\n",
      "  self._init_dates(dates, freq)\n",
      "/opt/conda/lib/python3.10/site-packages/statsmodels/tsa/base/tsa_model.py:473: ValueWarning: An unsupported index was provided and will be ignored when e.g. forecasting.\n",
      "  self._init_dates(dates, freq)\n"
     ]
    },
    {
     "data": {
      "text/html": [
       "<table class=\"simpletable\">\n",
       "<caption>SARIMAX Results</caption>\n",
       "<tr>\n",
       "  <th>Dep. Variable:</th>   <td>first_difference</td> <th>  No. Observations:  </th>    <td>2650</td>   \n",
       "</tr>\n",
       "<tr>\n",
       "  <th>Model:</th>            <td>ARIMA(1, 0, 1)</td>  <th>  Log Likelihood     </th>  <td>7995.514</td> \n",
       "</tr>\n",
       "<tr>\n",
       "  <th>Date:</th>            <td>Fri, 26 Apr 2024</td> <th>  AIC                </th> <td>-15983.028</td>\n",
       "</tr>\n",
       "<tr>\n",
       "  <th>Time:</th>                <td>19:11:26</td>     <th>  BIC                </th> <td>-15959.499</td>\n",
       "</tr>\n",
       "<tr>\n",
       "  <th>Sample:</th>                  <td>0</td>        <th>  HQIC               </th> <td>-15974.511</td>\n",
       "</tr>\n",
       "<tr>\n",
       "  <th></th>                      <td> - 2650</td>     <th>                     </th>      <td> </td>    \n",
       "</tr>\n",
       "<tr>\n",
       "  <th>Covariance Type:</th>        <td>opg</td>       <th>                     </th>      <td> </td>    \n",
       "</tr>\n",
       "</table>\n",
       "<table class=\"simpletable\">\n",
       "<tr>\n",
       "     <td></td>       <th>coef</th>     <th>std err</th>      <th>z</th>      <th>P>|z|</th>  <th>[0.025</th>    <th>0.975]</th>  \n",
       "</tr>\n",
       "<tr>\n",
       "  <th>const</th>  <td>    0.0002</td> <td>    0.000</td> <td>    1.063</td> <td> 0.288</td> <td>   -0.000</td> <td>    0.001</td>\n",
       "</tr>\n",
       "<tr>\n",
       "  <th>ar.L1</th>  <td>    0.0585</td> <td>    0.233</td> <td>    0.252</td> <td> 0.801</td> <td>   -0.397</td> <td>    0.514</td>\n",
       "</tr>\n",
       "<tr>\n",
       "  <th>ma.L1</th>  <td>   -0.0968</td> <td>    0.232</td> <td>   -0.417</td> <td> 0.676</td> <td>   -0.551</td> <td>    0.358</td>\n",
       "</tr>\n",
       "<tr>\n",
       "  <th>sigma2</th> <td>    0.0001</td> <td> 1.21e-06</td> <td>  115.726</td> <td> 0.000</td> <td>    0.000</td> <td>    0.000</td>\n",
       "</tr>\n",
       "</table>\n",
       "<table class=\"simpletable\">\n",
       "<tr>\n",
       "  <th>Ljung-Box (L1) (Q):</th>      <td>0.00</td>   <th>  Jarque-Bera (JB):  </th> <td>38982.28</td>\n",
       "</tr>\n",
       "<tr>\n",
       "  <th>Prob(Q):</th>                 <td>1.00</td>   <th>  Prob(JB):          </th>   <td>0.00</td>  \n",
       "</tr>\n",
       "<tr>\n",
       "  <th>Heteroskedasticity (H):</th> <td>2977.46</td> <th>  Skew:              </th>   <td>-0.13</td> \n",
       "</tr>\n",
       "<tr>\n",
       "  <th>Prob(H) (two-sided):</th>     <td>0.00</td>   <th>  Kurtosis:          </th>   <td>21.79</td> \n",
       "</tr>\n",
       "</table><br/><br/>Warnings:<br/>[1] Covariance matrix calculated using the outer product of gradients (complex-step)."
      ],
      "text/latex": [
       "\\begin{center}\n",
       "\\begin{tabular}{lclc}\n",
       "\\toprule\n",
       "\\textbf{Dep. Variable:}          & first\\_difference & \\textbf{  No. Observations:  } &    2650     \\\\\n",
       "\\textbf{Model:}                  &   ARIMA(1, 0, 1)  & \\textbf{  Log Likelihood     } &  7995.514   \\\\\n",
       "\\textbf{Date:}                   &  Fri, 26 Apr 2024 & \\textbf{  AIC                } & -15983.028  \\\\\n",
       "\\textbf{Time:}                   &      19:11:26     & \\textbf{  BIC                } & -15959.499  \\\\\n",
       "\\textbf{Sample:}                 &         0         & \\textbf{  HQIC               } & -15974.511  \\\\\n",
       "\\textbf{}                        &       - 2650      & \\textbf{                     } &             \\\\\n",
       "\\textbf{Covariance Type:}        &        opg        & \\textbf{                     } &             \\\\\n",
       "\\bottomrule\n",
       "\\end{tabular}\n",
       "\\begin{tabular}{lcccccc}\n",
       "                & \\textbf{coef} & \\textbf{std err} & \\textbf{z} & \\textbf{P$> |$z$|$} & \\textbf{[0.025} & \\textbf{0.975]}  \\\\\n",
       "\\midrule\n",
       "\\textbf{const}  &       0.0002  &        0.000     &     1.063  &         0.288        &       -0.000    &        0.001     \\\\\n",
       "\\textbf{ar.L1}  &       0.0585  &        0.233     &     0.252  &         0.801        &       -0.397    &        0.514     \\\\\n",
       "\\textbf{ma.L1}  &      -0.0968  &        0.232     &    -0.417  &         0.676        &       -0.551    &        0.358     \\\\\n",
       "\\textbf{sigma2} &       0.0001  &     1.21e-06     &   115.726  &         0.000        &        0.000    &        0.000     \\\\\n",
       "\\bottomrule\n",
       "\\end{tabular}\n",
       "\\begin{tabular}{lclc}\n",
       "\\textbf{Ljung-Box (L1) (Q):}     &   0.00  & \\textbf{  Jarque-Bera (JB):  } & 38982.28  \\\\\n",
       "\\textbf{Prob(Q):}                &   1.00  & \\textbf{  Prob(JB):          } &   0.00    \\\\\n",
       "\\textbf{Heteroskedasticity (H):} & 2977.46 & \\textbf{  Skew:              } &  -0.13    \\\\\n",
       "\\textbf{Prob(H) (two-sided):}    &   0.00  & \\textbf{  Kurtosis:          } &  21.79    \\\\\n",
       "\\bottomrule\n",
       "\\end{tabular}\n",
       "%\\caption{SARIMAX Results}\n",
       "\\end{center}\n",
       "\n",
       "Warnings: \\newline\n",
       " [1] Covariance matrix calculated using the outer product of gradients (complex-step)."
      ],
      "text/plain": [
       "<class 'statsmodels.iolib.summary.Summary'>\n",
       "\"\"\"\n",
       "                               SARIMAX Results                                \n",
       "==============================================================================\n",
       "Dep. Variable:       first_difference   No. Observations:                 2650\n",
       "Model:                 ARIMA(1, 0, 1)   Log Likelihood                7995.514\n",
       "Date:                Fri, 26 Apr 2024   AIC                         -15983.028\n",
       "Time:                        19:11:26   BIC                         -15959.499\n",
       "Sample:                             0   HQIC                        -15974.511\n",
       "                               - 2650                                         \n",
       "Covariance Type:                  opg                                         \n",
       "==============================================================================\n",
       "                 coef    std err          z      P>|z|      [0.025      0.975]\n",
       "------------------------------------------------------------------------------\n",
       "const          0.0002      0.000      1.063      0.288      -0.000       0.001\n",
       "ar.L1          0.0585      0.233      0.252      0.801      -0.397       0.514\n",
       "ma.L1         -0.0968      0.232     -0.417      0.676      -0.551       0.358\n",
       "sigma2         0.0001   1.21e-06    115.726      0.000       0.000       0.000\n",
       "===================================================================================\n",
       "Ljung-Box (L1) (Q):                   0.00   Jarque-Bera (JB):             38982.28\n",
       "Prob(Q):                              1.00   Prob(JB):                         0.00\n",
       "Heteroskedasticity (H):            2977.46   Skew:                            -0.13\n",
       "Prob(H) (two-sided):                  0.00   Kurtosis:                        21.79\n",
       "===================================================================================\n",
       "\n",
       "Warnings:\n",
       "[1] Covariance matrix calculated using the outer product of gradients (complex-step).\n",
       "\"\"\""
      ]
     },
     "execution_count": 11,
     "metadata": {},
     "output_type": "execute_result"
    }
   ],
   "source": [
    "from statsmodels.tsa.arima.model import ARIMA\n",
    "\n",
    "# Fit the ARIMA model\n",
    "model_arima = ARIMA(df_differenced, order=(1, 0, 1))\n",
    "model_arima_fit = model_arima.fit()\n",
    "\n",
    "# Display the summary of the ARIMA model\n",
    "model_arima_fit.summary()\n"
   ]
  },
  {
   "cell_type": "markdown",
   "id": "49a90d6d",
   "metadata": {
    "papermill": {
     "duration": 0.008337,
     "end_time": "2024-04-26T19:11:27.067944",
     "exception": false,
     "start_time": "2024-04-26T19:11:27.059607",
     "status": "completed"
    },
    "tags": []
   },
   "source": [
    "**Determining ARIMA Order:** \\\n",
    "We have to analyze the Autocorrelation Function (ACF) and Partial Autocorrelation Function (PACF) plots to help determine the orders of the AR, I, and MA components for the ARIMA model"
   ]
  },
  {
   "cell_type": "markdown",
   "id": "00086ab2",
   "metadata": {
    "papermill": {
     "duration": 0.008108,
     "end_time": "2024-04-26T19:11:27.084482",
     "exception": false,
     "start_time": "2024-04-26T19:11:27.076374",
     "status": "completed"
    },
    "tags": []
   },
   "source": [
    "**Stationarity Test Results:**\n",
    "**Initial Test:**\n",
    "**ADF Statistic:** -1.704 \\\n",
    "**p-value:** 0.429 \\\n",
    "**Critical Values:** The test statistic is not lower than any of the critical values at the common significance levels (1%, 5%, 10%). \\\n",
    "The initial test suggests that the series is not stationary, as indicated by a high p-value which fails to reject the null hypothesis of the presence of a unit root. \\\n",
    "After First Differencing: \\\n",
    "ADF Statistic: -2.600 \\\n",
    "**p-value:** 0.093 \\\n",
    "**Critical Values:** The test statistic after differencing is closer to the critical values but still not below the 5% or 1% critical value levels, indicating a trend towards stationarity but not conclusively stationary. \\\n",
    "The data became more stationary after first differencing, but it may still not be enough for some statistical tests or ARIMA modeling that requires strict stationarity. Additional differencing or transformations might be necessary, but let's proceed with this level of differencing for now. \\"
   ]
  },
  {
   "cell_type": "code",
   "execution_count": 12,
   "id": "a5b0e060",
   "metadata": {
    "execution": {
     "iopub.execute_input": "2024-04-26T19:11:27.103846Z",
     "iopub.status.busy": "2024-04-26T19:11:27.102868Z",
     "iopub.status.idle": "2024-04-26T19:11:27.126889Z",
     "shell.execute_reply": "2024-04-26T19:11:27.125661Z"
    },
    "papermill": {
     "duration": 0.036371,
     "end_time": "2024-04-26T19:11:27.129352",
     "exception": false,
     "start_time": "2024-04-26T19:11:27.092981",
     "status": "completed"
    },
    "tags": []
   },
   "outputs": [
    {
     "data": {
      "text/plain": [
       "(0.15747085367869723, 0.14664288407171297, 79.80568588520995)"
      ]
     },
     "execution_count": 12,
     "metadata": {},
     "output_type": "execute_result"
    }
   ],
   "source": [
    "from sklearn.metrics import mean_absolute_error, mean_squared_error\n",
    "from sklearn.model_selection import TimeSeriesSplit\n",
    "\n",
    "def mape(y_true, y_pred):\n",
    "    \"\"\" Calculate Mean Absolute Percentage Error \"\"\"\n",
    "    return np.mean(np.abs((y_true - y_pred) / y_true)) * 100\n",
    "\n",
    "# Initialize TimeSeriesSplit for cross-validation\n",
    "tscv = TimeSeriesSplit(n_splits=5)\n",
    "\n",
    "\n",
    "# Reinitialize lists to store performance metrics for each fold\n",
    "rmse_scores_poly = []\n",
    "mae_scores_poly = []\n",
    "mape_scores_poly = []\n",
    "\n",
    "# Perform time series cross-validation for Polynomial Regression\n",
    "for train_index, test_index in tscv.split(X_poly):\n",
    "    X_train_poly, X_test_poly = X_poly[train_index], X_poly[test_index]\n",
    "    y_train_poly, y_test_poly = y[train_index], y[test_index]\n",
    "\n",
    "    # Fit the polynomial model on training data\n",
    "    poly_model.fit(X_train_poly, y_train_poly)\n",
    "    y_pred_poly = poly_model.predict(X_test_poly)\n",
    "\n",
    "    # Calculate metrics\n",
    "    rmse_scores_poly.append(np.sqrt(mean_squared_error(y_test_poly, y_pred_poly)))\n",
    "    mae_scores_poly.append(mean_absolute_error(y_test_poly, y_pred_poly))\n",
    "    mape_scores_poly.append(mape(y_test_poly, y_pred_poly))\n",
    "\n",
    "# Calculate average of the performance metrics for Polynomial Regression\n",
    "avg_rmse_poly = np.mean(rmse_scores_poly)\n",
    "avg_mae_poly = np.mean(mae_scores_poly)\n",
    "avg_mape_poly = np.mean(mape_scores_poly)\n",
    "\n",
    "avg_rmse_poly, avg_mae_poly, avg_mape_poly\n"
   ]
  },
  {
   "cell_type": "markdown",
   "id": "9f7c169b",
   "metadata": {
    "papermill": {
     "duration": 0.008358,
     "end_time": "2024-04-26T19:11:27.146312",
     "exception": false,
     "start_time": "2024-04-26T19:11:27.137954",
     "status": "completed"
    },
    "tags": []
   },
   "source": [
    "### Comparative Analysis and Conclusion\n",
    "\n",
    "#### Performance Metrics Summary:\n",
    "- **Polynomial Regression:**\n",
    "  - **RMSE (Root Mean Square Error):** 0.1575\n",
    "  - **MAE (Mean Absolute Error):** 0.1466\n",
    "  - **MAPE (Mean Absolute Percentage Error):** 79.81%\n",
    "\n",
    "The RMSE, MAE, and MAPE provide a comprehensive view of the accuracy and error rates associated with the Polynomial Regression model. The MAPE of nearly 80% is particularly indicative of large errors relative to the actual values, which could be a concern when using this model for precise forecasting needs.\n",
    "\n",
    "#### Comparative Discussion:\n",
    "- **Polynomial Regression:**\n",
    "  - **Strengths:**\n",
    "    - Better at capturing non-linear trends compared to linear models.\n",
    "    - Simple to implement and understand, which makes it accessible for quick analyses.\n",
    "  - **Weaknesses:**\n",
    "    - High MAPE suggests that while the model captures the trend, the actual predictions can be quite off from the true values, leading to potentially significant forecasting errors.\n",
    "    - Susceptible to overfitting, especially with higher degree polynomials.\n",
    "\n",
    "- **ARIMA Model:**\n",
    "  - As we discussed earlier, the ARIMA model's performance metrics weren't successfully calculated due to computational issues, but typically:\\\n",
    "  - **Strengths:**\n",
    "    - Good for data with trends and seasonality, providing it's made stationary. \\\n",
    "    - Widely used for time series forecasting, supported by robust statistical theories. \\\n",
    "  - **Weaknesses:**\n",
    "    - Assumes linearity and normally distributed residuals, which might not hold true for volatile data like Bitcoin prices. \\\n",
    "    - Requires careful differencing to achieve stationarity, and the selection of parameters can be non-trivial.\n",
    "\n",
    "#### Best Model Justification:\n",
    "Given the provided metrics for the Polynomial Regression and the typical characteristics of ARIMA: \n",
    "- Without specific metrics for ARIMA due to the computational issues, it's challenging to definitively conclude which model is superior based solely on this data. \\\n",
    "- If we assume typical performance from ARIMA, it might be slightly better suited for handling the nuances of time series data like Bitcoin prices, assuming the data can be appropriately differenced to stationarity. \\\n",
    "\n",
    "#### Conclusion:\n",
    "Forecasting Bitcoin daily prices presents several challenges:\n",
    "- **Volatility:** The price of Bitcoin is highly volatile, making it difficult for simpler models to accurately predict future prices. \\\n",
    "- **Model Sensitivity:** The sensitivity of forecasting models to non-stationarities, trend, and seasonality in Bitcoin price data requires careful preprocessing and model configuration. \\\n",
    "- **Computational Issues:** We encountered significant computational challenges that hindered the full evaluation of models, particularly for ARIMA. \n"
   ]
  }
 ],
 "metadata": {
  "kaggle": {
   "accelerator": "none",
   "dataSources": [
    {
     "datasetId": 4886908,
     "sourceId": 8238532,
     "sourceType": "datasetVersion"
    }
   ],
   "dockerImageVersionId": 30698,
   "isGpuEnabled": false,
   "isInternetEnabled": true,
   "language": "python",
   "sourceType": "notebook"
  },
  "kernelspec": {
   "display_name": "Python 3",
   "language": "python",
   "name": "python3"
  },
  "language_info": {
   "codemirror_mode": {
    "name": "ipython",
    "version": 3
   },
   "file_extension": ".py",
   "mimetype": "text/x-python",
   "name": "python",
   "nbconvert_exporter": "python",
   "pygments_lexer": "ipython3",
   "version": "3.10.13"
  },
  "papermill": {
   "default_parameters": {},
   "duration": 9.15494,
   "end_time": "2024-04-26T19:11:27.775462",
   "environment_variables": {},
   "exception": null,
   "input_path": "__notebook__.ipynb",
   "output_path": "__notebook__.ipynb",
   "parameters": {},
   "start_time": "2024-04-26T19:11:18.620522",
   "version": "2.5.0"
  }
 },
 "nbformat": 4,
 "nbformat_minor": 5
}
